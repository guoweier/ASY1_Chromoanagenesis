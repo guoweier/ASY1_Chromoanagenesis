{
 "cells": [
  {
   "cell_type": "markdown",
   "id": "24163424",
   "metadata": {},
   "source": [
    "## ASY1 Arabidopsis Rearranged Chromosome ##\n",
    "#### 06/11/2022 ####\n",
    "\n",
    "### Introduction ###\n",
    "Generate breakpoints on shattered chromosome in asy1 mutational hybrid arabidopsis.  \n",
    "\n",
    "### Author\n",
    "---\n",
    "Weier Guo <br>\n",
    "PhD Candidate <br>\n",
    "Plant Biology Graduate Group, Comai Lab <br>\n",
    "University of California, Davis <br>\n",
    "email: weguo@ucdavis.edu <br>\n",
    "\n",
    "---\n"
   ]
  },
  {
   "cell_type": "code",
   "execution_count": 1,
   "id": "e2a683f8",
   "metadata": {},
   "outputs": [],
   "source": [
    "#use iPython magin notation to make the plots appear inline\n",
    "%matplotlib inline\n",
    "#import all needed libraries\n",
    "import seaborn as sns\n",
    "import matplotlib.pyplot as plt\n",
    "from scipy import stats, integrate, interpolate\n",
    "import os\n",
    "import pandas as pd\n",
    "from scipy.optimize import curve_fit\n",
    "from scipy.signal import savgol_filter\n",
    "from scipy.stats import anderson_ksamp\n",
    "import numpy as np\n",
    "import math"
   ]
  },
  {
   "cell_type": "code",
   "execution_count": 119,
   "id": "a903d001",
   "metadata": {},
   "outputs": [],
   "source": [
    "asy1 = open(\"../input/dosage-5kb-chr1-20220125.txt\",\"r\")\n",
    "\n",
    "asy1_chr1 = {\"x\":[],\"y\":[]}\n",
    "head = asy1.readline()\n",
    "for line in asy1:\n",
    "    line = line.split(\"\\n\")[0]\n",
    "    ln = line.split(\"\\t\")\n",
    "    if int(ln[1]) > 12138001 and int(ln[1]) < 12178001:\n",
    "        asy1_chr1[\"x\"] += [int(ln[1])]\n",
    "        asy1_chr1[\"y\"] += [float(ln[3])]\n",
    "asy1.close()"
   ]
  },
  {
   "cell_type": "code",
   "execution_count": 120,
   "id": "8253c8ab",
   "metadata": {},
   "outputs": [
    {
     "data": {
      "text/html": [
       "<div>\n",
       "<style scoped>\n",
       "    .dataframe tbody tr th:only-of-type {\n",
       "        vertical-align: middle;\n",
       "    }\n",
       "\n",
       "    .dataframe tbody tr th {\n",
       "        vertical-align: top;\n",
       "    }\n",
       "\n",
       "    .dataframe thead th {\n",
       "        text-align: right;\n",
       "    }\n",
       "</style>\n",
       "<table border=\"1\" class=\"dataframe\">\n",
       "  <thead>\n",
       "    <tr style=\"text-align: right;\">\n",
       "      <th></th>\n",
       "      <th>x</th>\n",
       "      <th>y</th>\n",
       "    </tr>\n",
       "  </thead>\n",
       "  <tbody>\n",
       "    <tr>\n",
       "      <th>0</th>\n",
       "      <td>12140001</td>\n",
       "      <td>2.863</td>\n",
       "    </tr>\n",
       "    <tr>\n",
       "      <th>1</th>\n",
       "      <td>12145001</td>\n",
       "      <td>1.548</td>\n",
       "    </tr>\n",
       "    <tr>\n",
       "      <th>2</th>\n",
       "      <td>12150001</td>\n",
       "      <td>1.610</td>\n",
       "    </tr>\n",
       "    <tr>\n",
       "      <th>3</th>\n",
       "      <td>12155001</td>\n",
       "      <td>2.389</td>\n",
       "    </tr>\n",
       "    <tr>\n",
       "      <th>4</th>\n",
       "      <td>12160001</td>\n",
       "      <td>2.578</td>\n",
       "    </tr>\n",
       "    <tr>\n",
       "      <th>5</th>\n",
       "      <td>12165001</td>\n",
       "      <td>2.496</td>\n",
       "    </tr>\n",
       "    <tr>\n",
       "      <th>6</th>\n",
       "      <td>12170001</td>\n",
       "      <td>2.781</td>\n",
       "    </tr>\n",
       "    <tr>\n",
       "      <th>7</th>\n",
       "      <td>12175001</td>\n",
       "      <td>3.232</td>\n",
       "    </tr>\n",
       "  </tbody>\n",
       "</table>\n",
       "</div>"
      ],
      "text/plain": [
       "          x      y\n",
       "0  12140001  2.863\n",
       "1  12145001  1.548\n",
       "2  12150001  1.610\n",
       "3  12155001  2.389\n",
       "4  12160001  2.578\n",
       "5  12165001  2.496\n",
       "6  12170001  2.781\n",
       "7  12175001  3.232"
      ]
     },
     "execution_count": 120,
     "metadata": {},
     "output_type": "execute_result"
    }
   ],
   "source": [
    "df=pd.DataFrame(asy1_chr1)\n",
    "df"
   ]
  },
  {
   "cell_type": "code",
   "execution_count": 121,
   "id": "eef073d0",
   "metadata": {},
   "outputs": [
    {
     "data": {
      "image/png": "[encoded data removed]",
      "text/plain": [
       "<Figure size 720x72 with 1 Axes>"
      ]
     },
     "metadata": {
      "needs_background": "light"
     },
     "output_type": "display_data"
    }
   ],
   "source": [
    "#make scatter plot for asy1 chr1. \n",
    "x = asy1_chr1['x']\n",
    "y = asy1_chr1['y']\n",
    "plt.figure(figsize=(10,1))\n",
    "plt.scatter(x,y,s=0.01,c=\"black\")\n",
    "\n",
    "#add vline represents junctions\n",
    "#plt.axvline(x=320008,color=\"blue\")\n",
    "#plt.axvline(x=325017,color=\"blue\")\n",
    "#plt.axvline(x=1259557,color=\"blue\")\n",
    "#plt.axvline(x=1263578,color=\"blue\")\n",
    "#plt.axvline(x=1289574,color=\"blue\")\n",
    "#plt.axvline(x=1292044,color=\"blue\")\n",
    "#plt.axvline(x=2409834,color=\"blue\")\n",
    "#plt.axvline(x=2460974,color=\"blue\")\n",
    "#plt.axvline(x=3141653,color=\"blue\")\n",
    "#plt.axvline(x=3142099,color=\"blue\")\n",
    "#plt.axvline(x=3713221,color=\"blue\")\n",
    "#plt.axvline(x=3713924,color=\"blue\")\n",
    "#plt.axvline(x=3937792,color=\"blue\")\n",
    "#plt.axvline(x=3937969,color=\"blue\")\n",
    "#plt.axvline(x=6148297,color=\"blue\")\n",
    "#plt.axvline(x=6168060,color=\"blue\")\n",
    "#plt.axvline(x=7101977,color=\"blue\")\n",
    "#plt.axvline(x=7111173,color=\"blue\")\n",
    "#plt.axvline(x=7430677,color=\"blue\")\n",
    "#plt.axvline(x=7938864,color=\"blue\")\n",
    "#plt.axvline(x=7951591,color=\"blue\")\n",
    "#plt.axvline(x=8158843,color=\"blue\")\n",
    "#plt.axvline(x=8281530,color=\"blue\")\n",
    "#plt.axvline(x=9144178,color=\"blue\")\n",
    "#plt.axvline(x=9144305,color=\"blue\")\n",
    "plt.axvline(x=12158764,color=\"blue\")\n",
    "plt.savefig('/Users/wendy/Documents/ASY1_manuscript/output/asy1_rearranged_chr_demo13_20220611.png',dpi=300)"
   ]
  },
  {
   "cell_type": "code",
   "execution_count": 131,
   "id": "59f5a8f5",
   "metadata": {},
   "outputs": [
    {
     "data": {
      "text/plain": [
       "defaultdict(int, {0: 0, 1: 0, 2: 0, 3: 0, 4: 0, 5: 0, 6: 0, 7: 0, 8: 0, 9: 0})"
      ]
     },
     "execution_count": 131,
     "metadata": {},
     "output_type": "execute_result"
    }
   ],
   "source": [
    "\n",
    "from collections import defaultdict\n",
    "b = defaultdict(int)\n",
    "for i in range(10):\n",
    "    b[i] = 0\n",
    "    \n",
    "b"
   ]
  },
  {
   "cell_type": "code",
   "execution_count": null,
   "id": "7b9a8c97",
   "metadata": {},
   "outputs": [],
   "source": []
  }
 ],
 "metadata": {
  "kernelspec": {
   "display_name": "Python 3 (ipykernel)",
   "language": "python",
   "name": "python3"
  },
  "language_info": {
   "codemirror_mode": {
    "name": "ipython",
    "version": 3
   },
   "file_extension": ".py",
   "mimetype": "text/x-python",
   "name": "python",
   "nbconvert_exporter": "python",
   "pygments_lexer": "ipython3",
   "version": "3.9.7"
  }
 },
 "nbformat": 4,
 "nbformat_minor": 5
}
